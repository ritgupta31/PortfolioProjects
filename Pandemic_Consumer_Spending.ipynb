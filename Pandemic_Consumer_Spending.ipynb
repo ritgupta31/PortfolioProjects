{
 "cells": [
  {
   "cell_type": "markdown",
   "metadata": {},
   "source": [
    "## Analyzing how different categories of consumer spending changed during the 2020 pandemic"
   ]
  },
  {
   "cell_type": "code",
   "execution_count": 1,
   "metadata": {},
   "outputs": [],
   "source": [
    "import numpy as np\n",
    "import matplotlib.pyplot as plt"
   ]
  },
  {
   "cell_type": "markdown",
   "metadata": {},
   "source": [
    "The data is very messy. I chose to clean it all in one loop."
   ]
  },
  {
   "cell_type": "code",
   "execution_count": 2,
   "metadata": {},
   "outputs": [],
   "source": [
    "data = []\n",
    "row_labels = []\n",
    "with open('pandemic_consumer_spending.csv') as f:\n",
    "    for i,line in enumerate(f.read().split('\\n')):\n",
    "        \n",
    "        # handle the first line, which has Q1, Q2, etc.\n",
    "        if i == 0: \n",
    "            column_labels = line.strip().strip(',').split(',')\n",
    "        \n",
    "        # handle the second line, which has 2019, 2020, etc.\n",
    "        elif i == 1:\n",
    "            split_line = line.strip().strip(',').split(',')\n",
    "            for j in range(len(column_labels)):\n",
    "                column_labels[j] += ' ' + split_line[j]\n",
    "        # omit line 2, since it's not important\n",
    "        # handle lines 3 onward, which contain a column label in position 1 followed by data\n",
    "        if i > 2:\n",
    "            split_line = line.strip().strip(',').split(',')\n",
    "            if len(split_line) < 2: continue\n",
    "            row_labels.append(split_line[1].strip())\n",
    "            # convert the data from strings to floats\n",
    "            row_data = []\n",
    "            for number_str in split_line[2:]:\n",
    "                row_data.append(float(number_str))\n",
    "            # append the rows to data\n",
    "            data.append(row_data)\n",
    "# convert data into a numpy array\n",
    "data = np.array(data)"
   ]
  },
  {
   "cell_type": "code",
   "execution_count": 7,
   "metadata": {},
   "outputs": [
    {
     "name": "stdout",
     "output_type": "stream",
     "text": [
      "['Personal consumption expenditures (PCE)', 'Goods', 'Durable goods', 'Motor vehicles and parts', 'Furnishings and durable household equipment', 'Recreational goods and vehicles', 'Other durable goods', 'Nondurable goods', 'Food and beverages purchased for off-premises consumption', 'Clothing and footwear', 'Gasoline and other energy goods', 'Other nondurable goods', 'Services', 'Household consumption expenditures (for services)', 'Housing and utilities', 'Health care', 'Transportation services', 'Recreation services', 'Food services and accommodations', 'Financial services and insurance', 'Other services', 'Final consumption expenditures of nonprofit institutions serving households (NPISHs)', 'Gross output of nonprofit institutions', 'Less: Receipts from sales of goods and services by nonprofit institutions', 'PCE excluding food and energy', 'Energy goods and services', 'Market-based PCE6', 'Market-based PCE excluding food and energy', 'Personal consumption expenditures', 'Household consumption expenditures', 'Food and beverages purchased for off-premises consumption', 'Clothing footwear and related services', 'Housing utilities and fuels', 'Furnishings household equipment and routine household maintenance', 'Health', 'Transportation', 'Communication', 'Recreation', 'Education', 'Food services and accommodations', 'Financial services and insurance', 'Other goods and services', 'Net foreign travel and expenditures abroad by U.S. residents', 'Final consumption expenditures of nonprofit institutions serving households (NPISHs)', 'Gross output of nonprofit institutions', 'Less: Receipts from sales of goods and services by nonprofit institutions']\n",
      "['2019 Q1', '2019 Q2', '2019 Q3', '2019 Q4', '2020 Q1', '2020 Q2', '2020 Q3', '2020 Q4', '2021 Q1', '2021 Q2', '2021 Q3']\n",
      "[[ 1.4155552e+07  1.4375722e+07  1.4529480e+07  1.4653949e+07\n",
      "   1.4439089e+07  1.2989729e+07  1.4293832e+07  1.4467611e+07\n",
      "   1.5005444e+07  1.5681699e+07  1.5946248e+07]\n",
      " [ 4.3828060e+06  4.4793750e+06  4.5127080e+06  4.5407840e+06\n",
      "   4.5309350e+06  4.3499120e+06  4.8671880e+06  4.8672510e+06\n",
      "   5.2450250e+06  5.5297900e+06  5.4941570e+06]\n",
      " [ 1.4732920e+06  1.5092310e+06  1.5314340e+06  1.5391830e+06\n",
      "   1.4849070e+06  1.4682530e+06  1.7532950e+06  1.7591790e+06\n",
      "   1.9578400e+06  2.0921530e+06  1.9843910e+06]\n",
      " [ 5.0007300e+05  5.1256000e+05  5.1899500e+05  5.2655200e+05\n",
      "   4.8196100e+05  4.8520900e+05  5.9579100e+05  6.0209900e+05\n",
      "   6.7490500e+05  7.5805500e+05  6.5559600e+05]\n",
      " [ 3.5181200e+05  3.5997400e+05  3.6447300e+05  3.6453700e+05\n",
      "   3.6570700e+05  3.6120500e+05  4.1926100e+05  4.1535600e+05\n",
      "   4.6191400e+05  4.7368900e+05  4.6952500e+05]\n",
      " [ 4.0680000e+05  4.1950400e+05  4.2858500e+05  4.2881500e+05\n",
      "   4.2872400e+05  4.5798600e+05  5.0948500e+05  5.0867100e+05\n",
      "   5.5936200e+05  5.8082800e+05  5.7344300e+05]\n",
      " [ 2.1460700e+05  2.1719300e+05  2.1938100e+05  2.1927900e+05\n",
      "   2.0851400e+05  1.6385400e+05  2.2875700e+05  2.3305300e+05\n",
      "   2.6165900e+05  2.7958100e+05  2.8582600e+05]\n",
      " [ 2.9095150e+06  2.9701430e+06  2.9812740e+06  3.0016000e+06\n",
      "   3.0460280e+06  2.8816590e+06  3.1138940e+06  3.1080720e+06\n",
      "   3.2871850e+06  3.4376370e+06  3.5097660e+06]\n",
      " [ 1.0134410e+06  1.0273650e+06  1.0413400e+06  1.0414980e+06\n",
      "   1.1251370e+06  1.1521140e+06  1.1594910e+06  1.1499620e+06\n",
      "   1.2015340e+06  1.2233640e+06  1.2463880e+06]\n",
      " [ 3.9335800e+05  3.9828500e+05  4.0000000e+05  4.0101800e+05\n",
      "   3.6626200e+05  2.9363400e+05  3.9424200e+05  3.9560500e+05\n",
      "   4.3681900e+05  4.7695200e+05  4.7999100e+05]\n",
      " [ 3.2385500e+05  3.5014000e+05  3.3282800e+05  3.4365000e+05\n",
      "   3.0516000e+05  1.8852200e+05  2.4543300e+05  2.4791400e+05\n",
      "   3.0028700e+05  3.4545100e+05  3.7845800e+05]\n",
      " [ 1.1788600e+06  1.1943530e+06  1.2071070e+06  1.2154350e+06\n",
      "   1.2494690e+06  1.2473890e+06  1.3147290e+06  1.3145920e+06\n",
      "   1.3485450e+06  1.3918710e+06  1.4049290e+06]\n",
      " [ 9.7727460e+06  9.8963470e+06  1.0016772e+07  1.0113165e+07\n",
      "   9.9081540e+06  8.6398170e+06  9.4266430e+06  9.6003600e+06\n",
      "   9.7604190e+06  1.0151909e+07  1.0452091e+07]\n",
      " [ 9.3366500e+06  9.4590520e+06  9.5714670e+06  9.6723030e+06\n",
      "   9.3876540e+06  8.0627700e+06  8.9320910e+06  9.1089560e+06\n",
      "   9.2816940e+06  9.6848410e+06  9.9845270e+06]\n",
      " [ 2.5347260e+06  2.5541330e+06  2.5853430e+06  2.6118330e+06\n",
      "   2.6225790e+06  2.6676980e+06  2.6825530e+06  2.6997450e+06\n",
      "   2.7271820e+06  2.7534330e+06  2.7890510e+06]\n",
      " [ 2.4087260e+06  2.4497080e+06  2.4699210e+06  2.5042660e+06\n",
      "   2.4068930e+06  2.0002890e+06  2.3691920e+06  2.4572290e+06\n",
      "   2.4642080e+06  2.5344330e+06  2.5796790e+06]\n",
      " [ 4.7963100e+05  4.9220300e+05  5.0217200e+05  5.0725500e+05\n",
      "   4.6728700e+05  2.9123500e+05  3.4245700e+05  3.5278500e+05\n",
      "   3.5680000e+05  4.1731500e+05  4.6100500e+05]\n",
      " [ 5.7371600e+05  5.8249200e+05  5.8280800e+05  5.9400300e+05\n",
      "   5.4171200e+05  3.0367300e+05  4.0567800e+05  4.1498400e+05\n",
      "   4.4245700e+05  4.9054700e+05  5.1548500e+05]\n",
      " [ 9.8691000e+05  1.0068120e+06  1.0193550e+06  1.0200030e+06\n",
      "   9.3356700e+05  6.1678400e+05  8.2976500e+05  8.2607400e+05\n",
      "   8.8834500e+05  1.0287490e+06  1.0821740e+06]\n",
      " [ 1.1562850e+06  1.1665540e+06  1.1769840e+06  1.1865180e+06\n",
      "   1.1939350e+06  1.1687000e+06  1.2004730e+06  1.2220230e+06\n",
      "   1.2448980e+06  1.2563900e+06  1.2773080e+06]\n",
      " [ 1.1966550e+06  1.2071510e+06  1.2348840e+06  1.2484250e+06\n",
      "   1.2216810e+06  1.0143910e+06  1.1019730e+06  1.1361160e+06\n",
      "   1.1578030e+06  1.2039740e+06  1.2798240e+06]\n",
      " [ 4.3609600e+05  4.3729500e+05  4.4530600e+05  4.4086200e+05\n",
      "   5.2050000e+05  5.7704600e+05  4.9455200e+05  4.9140400e+05\n",
      "   4.7872500e+05  4.6706700e+05  4.6756500e+05]\n",
      " [ 1.6250670e+06  1.6378000e+06  1.6503590e+06  1.6610930e+06\n",
      "   1.6680940e+06  1.5853460e+06  1.6401540e+06  1.6854690e+06\n",
      "   1.6727310e+06  1.7085190e+06  1.7444310e+06]\n",
      " [ 1.1889710e+06  1.2005050e+06  1.2050540e+06  1.2202300e+06\n",
      "   1.1475940e+06  1.0083000e+06  1.1456020e+06  1.1940650e+06\n",
      "   1.1940060e+06  1.2414520e+06  1.2768670e+06]\n",
      " [ 1.2573714e+07  1.2763443e+07  1.2915569e+07  1.3027462e+07\n",
      "   1.2784011e+07  1.1401230e+07  1.2645084e+07  1.2825706e+07\n",
      "   1.3251424e+07  1.3859864e+07  1.4062454e+07]\n",
      " [ 5.6839700e+05  5.8491400e+05  5.7257100e+05  5.8498900e+05\n",
      "   5.2994100e+05  4.3638400e+05  4.8925700e+05  4.9194300e+05\n",
      "   5.5248600e+05  5.9847100e+05  6.3740600e+05]\n",
      " [ 1.2288303e+07  1.2490219e+07  1.2621958e+07  1.2729262e+07\n",
      "   1.2465521e+07  1.1063509e+07  1.2332369e+07  1.2471787e+07\n",
      "   1.2988473e+07  1.3608041e+07  1.3812139e+07]\n",
      " [ 1.0706935e+07  1.0878424e+07  1.1008541e+07  1.1103276e+07\n",
      "   1.0810946e+07  9.4755160e+06  1.0684131e+07  1.0830394e+07\n",
      "   1.1234971e+07  1.1786727e+07  1.1928868e+07]\n",
      " [ 1.4155552e+07  1.4375722e+07  1.4529480e+07  1.4653949e+07\n",
      "   1.4439089e+07  1.2989729e+07  1.4293832e+07  1.4467611e+07\n",
      "   1.5005444e+07  1.5681699e+07  1.5946248e+07]\n",
      " [ 1.3719456e+07  1.3938427e+07  1.4084174e+07  1.4213086e+07\n",
      "   1.3918589e+07  1.2412682e+07  1.3799280e+07  1.3976207e+07\n",
      "   1.4526719e+07  1.5214631e+07  1.5478683e+07]\n",
      " [ 1.0134410e+06  1.0273650e+06  1.0413400e+06  1.0414980e+06\n",
      "   1.1251370e+06  1.1521140e+06  1.1594910e+06  1.1499620e+06\n",
      "   1.2015340e+06  1.2233640e+06  1.2463880e+06]\n",
      " [ 4.0976600e+05  4.1507900e+05  4.1674400e+05  4.1786000e+05\n",
      "   3.8291200e+05  3.0633200e+05  4.0857900e+05  4.1008300e+05\n",
      "   4.5204500e+05  4.9266600e+05  4.9657500e+05]\n",
      " [ 2.5557420e+06  2.5751280e+06  2.6061560e+06  2.6328030e+06\n",
      "   2.6405970e+06  2.6852450e+06  2.7011900e+06  2.7176100e+06\n",
      "   2.7489640e+06  2.7765300e+06  2.8122210e+06]\n",
      " [ 5.8843300e+05  6.0012800e+05  6.0786800e+05  6.0854700e+05\n",
      "   6.1573600e+05  6.0890400e+05  6.8062800e+05  6.7559700e+05\n",
      "   7.3874900e+05  7.5736800e+05  7.5585600e+05]\n",
      " [ 3.0128180e+06  3.0599130e+06  3.0882260e+06  3.1345370e+06\n",
      "   3.0567510e+06  2.6153290e+06  3.0236120e+06  3.1208490e+06\n",
      "   3.1182940e+06  3.2093700e+06  3.2595590e+06]\n",
      " [ 1.2825440e+06  1.3339080e+06  1.3331810e+06  1.3564870e+06\n",
      "   1.2363910e+06  9.4741900e+05  1.1650440e+06  1.1849320e+06\n",
      "   1.3102100e+06  1.4977230e+06  1.4718890e+06]\n",
      " [ 2.7710600e+05  2.7677700e+05  2.7728200e+05  2.7561700e+05\n",
      "   2.7462300e+05  2.6695800e+05  2.7472900e+05  2.8161500e+05\n",
      "   2.8878300e+05  2.9498700e+05  2.9882500e+05]\n",
      " [ 1.2331360e+06  1.2604030e+06  1.2716920e+06  1.2808500e+06\n",
      "   1.2322100e+06  1.0413730e+06  1.2148560e+06  1.2189940e+06\n",
      "   1.3241500e+06  1.4050260e+06  1.4264990e+06]\n",
      " [ 3.0396100e+05  3.0701900e+05  3.0972700e+05  3.1269700e+05\n",
      "   3.1345300e+05  2.8137500e+05  2.9187800e+05  2.8589100e+05\n",
      "   2.9137200e+05  3.0068900e+05  3.0784600e+05]\n",
      " [ 9.8691000e+05  1.0068120e+06  1.0193550e+06  1.0200030e+06\n",
      "   9.3356700e+05  6.1678400e+05  8.2976500e+05  8.2607400e+05\n",
      "   8.8834500e+05  1.0287490e+06  1.0821740e+06]\n",
      " [ 1.1562850e+06  1.1665540e+06  1.1769840e+06  1.1865180e+06\n",
      "   1.1939350e+06  1.1687000e+06  1.2004730e+06  1.2220230e+06\n",
      "   1.2448980e+06  1.2563900e+06  1.2773080e+06]\n",
      " [ 9.1224600e+05  9.1587500e+05  9.3663500e+05  9.4329400e+05\n",
      "   9.1572400e+05  7.5050100e+05  8.5933000e+05  8.7950500e+05\n",
      "   9.2350900e+05  9.6513800e+05  9.9987400e+05]\n",
      " [-1.2932000e+04 -6.5340000e+03 -1.0140000e+03  2.3770000e+03\n",
      "  -2.4470000e+03 -2.8351000e+04 -1.0296000e+04  3.0720000e+03\n",
      "  -4.1350000e+03  6.6310000e+03  4.3670000e+04]\n",
      " [ 4.3609600e+05  4.3729500e+05  4.4530600e+05  4.4086200e+05\n",
      "   5.2050000e+05  5.7704600e+05  4.9455200e+05  4.9140400e+05\n",
      "   4.7872500e+05  4.6706700e+05  4.6756500e+05]\n",
      " [ 1.6250670e+06  1.6378000e+06  1.6503590e+06  1.6610930e+06\n",
      "   1.6680940e+06  1.5853460e+06  1.6401540e+06  1.6854690e+06\n",
      "   1.6727310e+06  1.7085190e+06  1.7444310e+06]\n",
      " [ 1.1889710e+06  1.2005050e+06  1.2050540e+06  1.2202300e+06\n",
      "   1.1475940e+06  1.0083000e+06  1.1456020e+06  1.1940650e+06\n",
      "   1.1940060e+06  1.2414520e+06  1.2768670e+06]]\n"
     ]
    }
   ],
   "source": [
    "print(row_labels) \n",
    "print(column_labels) \n",
    "print(data)"
   ]
  },
  {
   "cell_type": "code",
   "execution_count": 8,
   "metadata": {},
   "outputs": [
    {
     "name": "stdout",
     "output_type": "stream",
     "text": [
      "(46, 11)\n"
     ]
    }
   ],
   "source": [
    "print(data.shape)"
   ]
  },
  {
   "cell_type": "markdown",
   "metadata": {},
   "source": [
    "The rows correspond to spending types, while the columns correspond to quarters."
   ]
  },
  {
   "cell_type": "code",
   "execution_count": 9,
   "metadata": {},
   "outputs": [],
   "source": [
    "row_means = np.mean(data, axis=1)\n",
    "row_stds = np.std(data, axis=1)"
   ]
  },
  {
   "cell_type": "code",
   "execution_count": 10,
   "metadata": {},
   "outputs": [],
   "source": [
    "q2_index = column_labels.index('2020 Q2')\n",
    "q2_data = data[:,q2_index]"
   ]
  },
  {
   "cell_type": "markdown",
   "metadata": {},
   "source": [
    "### Comparing the spending before Q2 2020 and after Q2 2020"
   ]
  },
  {
   "cell_type": "code",
   "execution_count": 11,
   "metadata": {},
   "outputs": [],
   "source": [
    "pre_pandemic_means = np.mean(data[:, :q2_index], axis=1)\n",
    "pre_pandemic_stds = np.std(data[:, :q2_index], axis=1)\n",
    "post_pandemic_means = np.mean(data[:, q2_index+1:], axis=1)\n",
    "post_pandemic_stds = np.std(data[:, q2_index+1:], axis=1)"
   ]
  },
  {
   "cell_type": "code",
   "execution_count": 12,
   "metadata": {},
   "outputs": [],
   "source": [
    "percent_differences = 100 * (data[:,q2_index] - row_means)/data[:,q2_index]"
   ]
  },
  {
   "cell_type": "code",
   "execution_count": 13,
   "metadata": {},
   "outputs": [
    {
     "name": "stdout",
     "output_type": "stream",
     "text": [
      "Above average:\n",
      "Food and beverages purchased for off-premises consumption 2.3 %\n",
      "Housing and utilities 0.4 %\n",
      "Final consumption expenditures of nonprofit institutions serving households (NPISHs) 17.19 %\n",
      "Food and beverages purchased for off-premises consumption 2.3 %\n",
      "Housing utilities and fuels 0.29 %\n",
      "Net foreign travel and expenditures abroad by U.S. residents 96.81 %\n",
      "Final consumption expenditures of nonprofit institutions serving households (NPISHs) 17.19 %\n"
     ]
    }
   ],
   "source": [
    "# get the above average rows\n",
    "print('Above average:')\n",
    "for i in range(len(row_labels)):\n",
    "    if percent_differences[i] > 0:\n",
    "        print(row_labels[i], round(percent_differences[i], 2), '%')"
   ]
  },
  {
   "cell_type": "markdown",
   "metadata": {},
   "source": [
    "Hmmm that's strange. The net foreign travel and expenditures went way up! Why is that?"
   ]
  },
  {
   "cell_type": "code",
   "execution_count": 14,
   "metadata": {},
   "outputs": [
    {
     "data": {
      "text/plain": [
       "array([-12932.,  -6534.,  -1014.,   2377.,  -2447., -28351., -10296.,\n",
       "         3072.,  -4135.,   6631.,  43670.])"
      ]
     },
     "execution_count": 14,
     "metadata": {},
     "output_type": "execute_result"
    }
   ],
   "source": [
    "data[row_labels.index('Net foreign travel and expenditures abroad by U.S. residents')]"
   ]
  },
  {
   "cell_type": "markdown",
   "metadata": {},
   "source": [
    "It's because all the numbers are actually negative. Percentage difference only measures magnitude, since the negative in the numerator and denominator cancel out. Let's not worry about that row in our analysis."
   ]
  },
  {
   "cell_type": "code",
   "execution_count": 15,
   "metadata": {},
   "outputs": [
    {
     "name": "stdout",
     "output_type": "stream",
     "text": [
      "Below average:\n",
      "Personal consumption expenditures (PCE) -12.35 %\n",
      "Goods -10.35 %\n",
      "Durable goods -14.87 %\n",
      "Motor vehicles and parts -18.26 %\n",
      "Furnishings and durable household equipment -10.93 %\n",
      "Recreational goods and vehicles -5.25 %\n",
      "Other durable goods -40.46 %\n",
      "Nondurable goods -8.04 %\n",
      "Clothing and footwear -37.34 %\n",
      "Gasoline and other energy goods -62.11 %\n",
      "Other nondurable goods -2.52 %\n",
      "Services -13.36 %\n",
      "Household consumption expenditures (for services) -15.55 %\n",
      "Health care -21.09 %\n",
      "Transportation services -45.78 %\n",
      "Recreation services -63.08 %\n",
      "Food services and accommodations -50.91 %\n",
      "Financial services and insurance -3.07 %\n",
      "Other services -16.53 %\n",
      "Gross output of nonprofit institutions -4.82 %\n",
      "Less: Receipts from sales of goods and services by nonprofit institutions -17.41 %\n",
      "PCE excluding food and energy -13.31 %\n",
      "Energy goods and services -25.97 %\n",
      "Market-based PCE6 -14.11 %\n",
      "Market-based PCE excluding food and energy -15.56 %\n",
      "Personal consumption expenditures -12.35 %\n",
      "Household consumption expenditures -13.73 %\n",
      "Clothing footwear and related services -36.77 %\n",
      "Furnishings household equipment and routine household maintenance -8.06 %\n",
      "Health -17.14 %\n",
      "Transportation -35.49 %\n",
      "Communication -5.13 %\n",
      "Recreation -21.42 %\n",
      "Education -6.81 %\n",
      "Food services and accommodations -50.91 %\n",
      "Financial services and insurance -3.07 %\n",
      "Other goods and services -21.15 %\n",
      "Gross output of nonprofit institutions -4.82 %\n",
      "Less: Receipts from sales of goods and services by nonprofit institutions -17.41 %\n"
     ]
    }
   ],
   "source": [
    "# get the below average rows\n",
    "print('Below average:')\n",
    "for i in range(len(row_labels)):\n",
    "    if percent_differences[i] < 0:\n",
    "        print(row_labels[i], round(percent_differences[i], 2), '%')"
   ]
  },
  {
   "cell_type": "markdown",
   "metadata": {},
   "source": [
    "1. The category that increased the most was final consumption expenditures of nonprofit institutions serving households. This category probably went up because these kinds of nonprofits, like religious aid groups, helped the vulnerable during lockdowns, for example, by delivering meals. The Net foreign travel category also increased, but since that is a negative number, I'm going to exclude it. If you included it in your analysis, that's fine too.\n",
    "\n",
    "2. The category that decreased the most was Gasoline and other energy goods, which makes sense since lockdowns kept people at home, which decreased their need for gasoline.\n",
    "3. I was surprised that spending on health decreased as much as it did. I guess a lot of people delayed medical care at the start of the pandemic."
   ]
  },
  {
   "cell_type": "markdown",
   "metadata": {},
   "source": [
    "### Plotting the spending for different categories to look at the changes"
   ]
  },
  {
   "cell_type": "code",
   "execution_count": 16,
   "metadata": {},
   "outputs": [
    {
     "name": "stdout",
     "output_type": "stream",
     "text": [
      "[(0, 'Personal consumption expenditures (PCE)'), (1, 'Goods'), (2, 'Durable goods'), (3, 'Motor vehicles and parts'), (4, 'Furnishings and durable household equipment'), (5, 'Recreational goods and vehicles'), (6, 'Other durable goods'), (7, 'Nondurable goods'), (8, 'Food and beverages purchased for off-premises consumption'), (9, 'Clothing and footwear'), (10, 'Gasoline and other energy goods'), (11, 'Other nondurable goods'), (12, 'Services'), (13, 'Household consumption expenditures (for services)'), (14, 'Housing and utilities'), (15, 'Health care'), (16, 'Transportation services'), (17, 'Recreation services'), (18, 'Food services and accommodations'), (19, 'Financial services and insurance'), (20, 'Other services'), (21, 'Final consumption expenditures of nonprofit institutions serving households (NPISHs)'), (22, 'Gross output of nonprofit institutions'), (23, 'Less: Receipts from sales of goods and services by nonprofit institutions'), (24, 'PCE excluding food and energy'), (25, 'Energy goods and services'), (26, 'Market-based PCE6'), (27, 'Market-based PCE excluding food and energy'), (28, 'Personal consumption expenditures'), (29, 'Household consumption expenditures'), (30, 'Food and beverages purchased for off-premises consumption'), (31, 'Clothing footwear and related services'), (32, 'Housing utilities and fuels'), (33, 'Furnishings household equipment and routine household maintenance'), (34, 'Health'), (35, 'Transportation'), (36, 'Communication'), (37, 'Recreation'), (38, 'Education'), (39, 'Food services and accommodations'), (40, 'Financial services and insurance'), (41, 'Other goods and services'), (42, 'Net foreign travel and expenditures abroad by U.S. residents'), (43, 'Final consumption expenditures of nonprofit institutions serving households (NPISHs)'), (44, 'Gross output of nonprofit institutions'), (45, 'Less: Receipts from sales of goods and services by nonprofit institutions')]\n"
     ]
    }
   ],
   "source": [
    "print([(i,row_labels[i]) for i in range(len(row_labels))])"
   ]
  },
  {
   "cell_type": "code",
   "execution_count": 17,
   "metadata": {},
   "outputs": [
    {
     "data": {
      "image/png": "[encoded data removed]",
      "text/plain": [
       "<Figure size 720x360 with 1 Axes>"
      ]
     },
     "metadata": {
      "needs_background": "light"
     },
     "output_type": "display_data"
    }
   ],
   "source": [
    "plt.subplots(figsize=(10,5))\n",
    "for i in range(14,20):\n",
    "    plt.plot(data[i], label=row_labels[i])\n",
    "plt.legend()\n",
    "plt.xticks(np.arange(11), column_labels)\n",
    "plt.xlabel('Time')\n",
    "plt.ylabel('Personal Consumption Expenditures')\n",
    "plt.title('Personal Expenses Over Time')\n",
    "plt.show()"
   ]
  },
  {
   "cell_type": "markdown",
   "metadata": {},
   "source": [
    "All of these categories except financial services and housing show a decline during the beginning of the pandemic"
   ]
  },
  {
   "cell_type": "code",
   "execution_count": null,
   "metadata": {},
   "outputs": [],
   "source": []
  }
 ],
 "metadata": {
  "kernelspec": {
   "display_name": "Python 3",
   "language": "python",
   "name": "python3"
  },
  "language_info": {
   "codemirror_mode": {
    "name": "ipython",
    "version": 3
   },
   "file_extension": ".py",
   "mimetype": "text/x-python",
   "name": "python",
   "nbconvert_exporter": "python",
   "pygments_lexer": "ipython3",
   "version": "3.8.8"
  }
 },
 "nbformat": 4,
 "nbformat_minor": 4
}
